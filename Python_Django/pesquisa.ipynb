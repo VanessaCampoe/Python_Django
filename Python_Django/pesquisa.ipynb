{
 "cells": [
  {
   "cell_type": "markdown",
   "id": "a475fdb7",
   "metadata": {},
   "source": [
    "Curso-Django-Completo/\n",
    "├── projeto_biblioteca/              ← Sistema de empréstimos de livros\n",
    "│   ├── .venv/\n",
    "│   ├── library/\n",
    "│   ├── catalog/\n",
    "│   ├── manage.py\n",
    "│   └── db.sqlite3\n",
    "│\n",
    "├── projeto_blog_pessoal/           ← Blog com autenticação e comentários\n",
    "│   ├── .venv/\n",
    "│   ├── blog_site/\n",
    "│   ├── posts/\n",
    "│   ├── manage.py\n",
    "│   └── db.sqlite3\n",
    "│\n",
    "├── projeto_portfolio/              ← Portfólio pessoal com painel admin\n",
    "│   ├── .venv/\n",
    "│   ├── portfolio/\n",
    "│   ├── projetos/\n",
    "│   ├── manage.py\n",
    "│   └── db.sqlite3\n",
    "│\n",
    "├── projeto_api_livros/             ← API REST para catálogo de livros\n",
    "│   ├── .venv/\n",
    "│   ├── api_livros/\n",
    "│   ├── livros/\n",
    "│   ├── manage.py\n",
    "│   └── db.sqlite3\n",
    "│\n",
    "├── projeto_loja_virtual/           ← Loja com carrinho e pagamentos\n",
    "│   ├── .venv/\n",
    "│   ├── loja/\n",
    "│   ├── produtos/\n",
    "│   ├── pedidos/\n",
    "│   ├── manage.py\n",
    "│   └── db.sqlite3\n",
    "│\n",
    "├── projeto_dashboard_financas/     ← Dashboard financeiro com gráficos\n",
    "│   ├── .venv/\n",
    "│   ├── dashboard/\n",
    "│   ├── contas/\n",
    "│   ├── manage.py\n",
    "│   └── db.sqlite3\n",
    "│\n",
    "├── .gitignore                      ← Ignora venvs, banco, arquivos temporários\n",
    "├── README.md                       ← Explicação geral do curso e projetos\n",
    "└── LICENSE                         ← (opcional) licença do repositório\n"
   ]
  }
 ],
 "metadata": {
  "language_info": {
   "name": "python"
  }
 },
 "nbformat": 4,
 "nbformat_minor": 5
}
